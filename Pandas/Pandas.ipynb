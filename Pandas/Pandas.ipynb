{
 "cells": [
  {
   "cell_type": "markdown",
   "metadata": {},
   "source": [
    "# Pandas\n",
    "\n",
    "- Pandas is a Python Data Analysis package that provides fast, flexible and expressive data structure designed to make working with 'relational' or 'labeled' data both easy and intutive.\n",
    "- Pandas : Panel Data System\n",
    "- Structured on top of NumPy.\n",
    "- Allows Relational and label-based data management"
   ]
  },
  {
   "cell_type": "markdown",
   "metadata": {},
   "source": [
    "Primary data structures of pandas\n",
    "1. Series (1 Dimensional homogeneously-typed array)\n",
    "2. DataFrames (2 - Dimensional : size-mutable tabular structure with potentially heterogeneously-typed column)"
   ]
  },
  {
   "cell_type": "markdown",
   "metadata": {},
   "source": [
    "Compatibilites\n",
    " - Support Time series data (Ordered & Unordered)\n",
    " - Support Tabular data which contains heterogeneously typed columns.\n",
    " - Comprehensive library brings the features of R to handle all sort of data in Python.\n",
    " - Read and write data from various formats\n",
    " - Handling the missing data more easily\n",
    " - Merging and joining of datasets\n",
    " - Reshaping and pivoting\n",
    " - Size Mutability : inseration & Deletion in dataset\n",
    " - Time Series (Generate date ranges, Frequncy convertion, dat shifting and laging , moving window stastics, linear regressions and joining of time series without data loss )"
   ]
  },
  {
   "cell_type": "markdown",
   "metadata": {},
   "source": [
    "Pandas API : https://pandas.pydata.org/docs/reference/index.html"
   ]
  }
 ],
 "metadata": {
  "kernelspec": {
   "display_name": "Python 3 (ipykernel)",
   "language": "python",
   "name": "python3"
  },
  "language_info": {
   "codemirror_mode": {
    "name": "ipython",
    "version": 3
   },
   "file_extension": ".py",
   "mimetype": "text/x-python",
   "name": "python",
   "nbconvert_exporter": "python",
   "pygments_lexer": "ipython3",
   "version": "3.11.4"
  }
 },
 "nbformat": 4,
 "nbformat_minor": 4
}
